{
 "cells": [
  {
   "cell_type": "code",
   "execution_count": 23,
   "metadata": {},
   "outputs": [],
   "source": [
    "import os\n",
    "\n",
    "with open('input.txt') as f:\n",
    "    data = f.read().strip()\n",
    "\n",
    "with open('test-input.txt') as f:\n",
    "    test_data = f.read().strip()\n",
    "    test_data = test_data.split('\\n')\n",
    "\n",
    "total = 0\n",
    "data = data.split('\\n')\n",
    "    "
   ]
  },
  {
   "cell_type": "code",
   "execution_count": 24,
   "metadata": {},
   "outputs": [],
   "source": [
    "import re \n",
    "\n",
    "number_re = re.compile(r'\\d+')\n",
    "symbol_re = re.compile(r'[^\\d\\w.]')"
   ]
  },
  {
   "cell_type": "code",
   "execution_count": 25,
   "metadata": {},
   "outputs": [
    {
     "name": "stdout",
     "output_type": "stream",
     "text": [
      "total: 559667\n"
     ]
    }
   ],
   "source": [
    "total = 0\n",
    "analysis_data = data\n",
    "for li, line in enumerate(analysis_data):\n",
    "  # print(li, line)\n",
    "    # identify the number blocks in a line\n",
    "  match_iterator = number_re.finditer(line)\n",
    "  for match in match_iterator:\n",
    "      # print(match.span())\n",
    "      adjacent_x = (max(match.start() - 1, 0), min(match.end() + 1, len(line)))\n",
    "      # print(adjacent_x)\n",
    "      for i in range(max(li - 1, 0), min(li + 2, len(analysis_data))):\n",
    "        adjacent_string = analysis_data[i][adjacent_x[0]:adjacent_x[1]]\n",
    "        if symbol_re.search(adjacent_string):\n",
    "          total += int(match.group())\n",
    "          break\n",
    "print(f\"total: {total}\")\n"
   ]
  },
  {
   "cell_type": "code",
   "execution_count": 29,
   "metadata": {},
   "outputs": [
    {
     "name": "stdout",
     "output_type": "stream",
     "text": [
      "total gear ratio: 86,841,457 over 330 gears\n"
     ]
    }
   ],
   "source": [
    "gear_re = re.compile(r'\\*')\n",
    "\n",
    "total_gears = 0\n",
    "total_gear_ratio = 0\n",
    "for li, line in enumerate(analysis_data):\n",
    "  match_iterator = gear_re.finditer(line)\n",
    "  for match in match_iterator:\n",
    "    adjacency_range = list(range(max(match.start() - 1, 0), min(match.end() + 1, len(line))))\n",
    "    # adjacent_x = (max(match.start() - 3, 0), min(match.end() + 3, len(line)))\n",
    "    adjacent_numbers = []\n",
    "    for i in range(max(li - 1, 0), min(li + 2, len(analysis_data))):\n",
    "      # print('checking for adjacent numbers in', analysis_data[i])\n",
    "      found_adjacent_numbers = number_re.finditer(analysis_data[i])\n",
    "      for found_adjacent_number in found_adjacent_numbers:\n",
    "        # print('found adjacent number', found_adjacent_number.group(), found_adjacent_number.span(), adjacency_range)\n",
    "        # check that the found adjacent number is actually adjacent to the gear -> it's span starts or ends with the gear span\n",
    "        if found_adjacent_number.start() in adjacency_range or found_adjacent_number.end() - 1 in adjacency_range:\n",
    "          # print('adjacent_number is adjacent to gear', found_adjacent_number.group())\n",
    "          adjacent_numbers.append(int(found_adjacent_number.group()))\n",
    "    if len(adjacent_numbers) == 2:\n",
    "      # print('found a gear', adjacent_numbers)\n",
    "      gear_ratio = adjacent_numbers[0] * adjacent_numbers[1]\n",
    "      total_gear_ratio += gear_ratio\n",
    "      total_gears += 1\n",
    "\n",
    "print(f\"total gear ratio: {total_gear_ratio:,} over {total_gears} gears\")\n"
   ]
  }
 ],
 "metadata": {
  "kernelspec": {
   "display_name": "Python 3",
   "language": "python",
   "name": "python3"
  },
  "language_info": {
   "codemirror_mode": {
    "name": "ipython",
    "version": 3
   },
   "file_extension": ".py",
   "mimetype": "text/x-python",
   "name": "python",
   "nbconvert_exporter": "python",
   "pygments_lexer": "ipython3",
   "version": "3.11.5"
  }
 },
 "nbformat": 4,
 "nbformat_minor": 2
}
