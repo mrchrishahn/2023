{
 "cells": [
  {
   "cell_type": "code",
   "execution_count": 24,
   "metadata": {},
   "outputs": [],
   "source": [
    "\n",
    "with open('data.txt') as f:\n",
    "    data = f.read().splitlines()\n",
    "\n",
    "with open('test-data.txt') as f:\n",
    "    test_data = f.read().splitlines()\n",
    "\n",
    "analysis_data = data"
   ]
  },
  {
   "cell_type": "code",
   "execution_count": 25,
   "metadata": {},
   "outputs": [
    {
     "name": "stdout",
     "output_type": "stream",
     "text": [
      "18619\n"
     ]
    }
   ],
   "source": [
    "import re\n",
    "\n",
    "number_re = re.compile(r'\\d+')\n",
    "\n",
    "total_points = 0\n",
    "for line in analysis_data:\n",
    "    # print(line)\n",
    "    numbers = line.split(':')[1]\n",
    "    winning_numbers, your_numbers = numbers.split('|')\n",
    "    winning_numbers = {int(x) for x in number_re.findall(winning_numbers)}\n",
    "    your_numbers = {int(x) for x in number_re.findall(your_numbers)}\n",
    "    overlap = len(winning_numbers.intersection(your_numbers))\n",
    "    if overlap > 0:\n",
    "        total_points += 2 ** (overlap - 1)\n",
    "print(total_points)"
   ]
  },
  {
   "cell_type": "code",
   "execution_count": 26,
   "metadata": {},
   "outputs": [
    {
     "name": "stdout",
     "output_type": "stream",
     "text": [
      "8063216\n"
     ]
    }
   ],
   "source": [
    "cards = {}\n",
    "\n",
    "for index, line in enumerate(analysis_data, 1):\n",
    "    numbers = line.split(':')[1]\n",
    "    cards[index] = cards.get(index, 0) + 1\n",
    "    card_count = cards.get(index, 1)\n",
    "    winning_numbers, your_numbers = numbers.split('|')\n",
    "    winning_numbers = {int(x) for x in number_re.findall(winning_numbers)}\n",
    "    your_numbers = {int(x) for x in number_re.findall(your_numbers)}\n",
    "    overlap = len(winning_numbers.intersection(your_numbers))\n",
    "    if overlap > 0:\n",
    "      # print(f'card {index} has {overlap} overlap')\n",
    "      for i in range(1, overlap + 1):\n",
    "        # print(f'you got awarded {card_count} cards for card {index + i}. Now you have {cards.get(index + i, 0) + card_count} cards for card {index + i}')\n",
    "        # increase the card count for the next card - for every instance of the card we have once\n",
    "        cards[index + i] = cards.get(index + i, 0) + card_count\n",
    "\n",
    "# print({f\"Card {k:3d}\": v for k, v in cards.items()})\n",
    "print(sum(cards.values()))"
   ]
  }
 ],
 "metadata": {
  "kernelspec": {
   "display_name": "Python 3",
   "language": "python",
   "name": "python3"
  },
  "language_info": {
   "codemirror_mode": {
    "name": "ipython",
    "version": 3
   },
   "file_extension": ".py",
   "mimetype": "text/x-python",
   "name": "python",
   "nbconvert_exporter": "python",
   "pygments_lexer": "ipython3",
   "version": "3.11.5"
  }
 },
 "nbformat": 4,
 "nbformat_minor": 2
}
